{
 "cells": [
  {
   "cell_type": "code",
   "execution_count": 109,
   "metadata": {},
   "outputs": [],
   "source": [
    "import pandas as pd \n",
    "import numpy as np\n",
    "import matplotlib.pyplot as plt"
   ]
  },
  {
   "cell_type": "markdown",
   "metadata": {},
   "source": [
    "**CARGA DE ARCHIVO CSV**"
   ]
  },
  {
   "cell_type": "code",
   "execution_count": 110,
   "metadata": {},
   "outputs": [
    {
     "data": {
      "text/html": [
       "<div>\n",
       "<style scoped>\n",
       "    .dataframe tbody tr th:only-of-type {\n",
       "        vertical-align: middle;\n",
       "    }\n",
       "\n",
       "    .dataframe tbody tr th {\n",
       "        vertical-align: top;\n",
       "    }\n",
       "\n",
       "    .dataframe thead th {\n",
       "        text-align: right;\n",
       "    }\n",
       "</style>\n",
       "<table border=\"1\" class=\"dataframe\">\n",
       "  <thead>\n",
       "    <tr style=\"text-align: right;\">\n",
       "      <th></th>\n",
       "      <th>indice_tiempo</th>\n",
       "      <th>ventas_precios_corrientes</th>\n",
       "      <th>ventas_precios_constantes</th>\n",
       "      <th>ventas_totales_canal_venta</th>\n",
       "      <th>salon_ventas</th>\n",
       "      <th>canales_on_line</th>\n",
       "      <th>ventas_totales_medio_pago</th>\n",
       "      <th>efectivo</th>\n",
       "      <th>tarjetas_debito</th>\n",
       "      <th>tarjetas_credito</th>\n",
       "      <th>...</th>\n",
       "      <th>almacen</th>\n",
       "      <th>panaderia</th>\n",
       "      <th>lacteos</th>\n",
       "      <th>carnes</th>\n",
       "      <th>verduleria_fruteria</th>\n",
       "      <th>alimentos_preparados_rotiseria</th>\n",
       "      <th>articulos_limpieza_perfumeria</th>\n",
       "      <th>indumentaria_calzado_textiles_hogar</th>\n",
       "      <th>electronicos_articulos_hogar</th>\n",
       "      <th>otros</th>\n",
       "    </tr>\n",
       "  </thead>\n",
       "  <tbody>\n",
       "    <tr>\n",
       "      <th>0</th>\n",
       "      <td>01/01/2017</td>\n",
       "      <td>27858.9</td>\n",
       "      <td>27477.3</td>\n",
       "      <td>27858872.08</td>\n",
       "      <td>27591730.13</td>\n",
       "      <td>267141.9560</td>\n",
       "      <td>27858872.08</td>\n",
       "      <td>1.023010e+07</td>\n",
       "      <td>6864575.384</td>\n",
       "      <td>9.047205e+06</td>\n",
       "      <td>...</td>\n",
       "      <td>6705475.318</td>\n",
       "      <td>9.459063e+05</td>\n",
       "      <td>2880656.169</td>\n",
       "      <td>2606192.942</td>\n",
       "      <td>1.050314e+06</td>\n",
       "      <td>340777.3882</td>\n",
       "      <td>4397543.671</td>\n",
       "      <td>7.723718e+05</td>\n",
       "      <td>1838507.096</td>\n",
       "      <td>2806660.309</td>\n",
       "    </tr>\n",
       "    <tr>\n",
       "      <th>1</th>\n",
       "      <td>01/02/2017</td>\n",
       "      <td>25994.2</td>\n",
       "      <td>25223.4</td>\n",
       "      <td>25994200.17</td>\n",
       "      <td>25749179.40</td>\n",
       "      <td>245020.7690</td>\n",
       "      <td>25994200.17</td>\n",
       "      <td>9.719067e+06</td>\n",
       "      <td>6438494.011</td>\n",
       "      <td>8.309150e+06</td>\n",
       "      <td>...</td>\n",
       "      <td>6576624.803</td>\n",
       "      <td>9.256186e+05</td>\n",
       "      <td>2855639.900</td>\n",
       "      <td>2600083.591</td>\n",
       "      <td>1.026167e+06</td>\n",
       "      <td>328288.6951</td>\n",
       "      <td>4053283.771</td>\n",
       "      <td>6.722905e+05</td>\n",
       "      <td>1257661.903</td>\n",
       "      <td>2354084.901</td>\n",
       "    </tr>\n",
       "    <tr>\n",
       "      <th>2</th>\n",
       "      <td>01/03/2017</td>\n",
       "      <td>27780.0</td>\n",
       "      <td>26334.3</td>\n",
       "      <td>27780006.52</td>\n",
       "      <td>27472228.72</td>\n",
       "      <td>307777.8040</td>\n",
       "      <td>27780006.52</td>\n",
       "      <td>1.024444e+07</td>\n",
       "      <td>6908522.962</td>\n",
       "      <td>8.845010e+06</td>\n",
       "      <td>...</td>\n",
       "      <td>7437264.174</td>\n",
       "      <td>1.016148e+06</td>\n",
       "      <td>3188259.169</td>\n",
       "      <td>2824976.726</td>\n",
       "      <td>1.075526e+06</td>\n",
       "      <td>353335.1548</td>\n",
       "      <td>4354197.611</td>\n",
       "      <td>6.676967e+05</td>\n",
       "      <td>1305674.917</td>\n",
       "      <td>2266189.277</td>\n",
       "    </tr>\n",
       "    <tr>\n",
       "      <th>3</th>\n",
       "      <td>01/04/2017</td>\n",
       "      <td>29134.3</td>\n",
       "      <td>27045.9</td>\n",
       "      <td>29134272.22</td>\n",
       "      <td>28827479.49</td>\n",
       "      <td>306792.7330</td>\n",
       "      <td>29134272.22</td>\n",
       "      <td>1.031263e+07</td>\n",
       "      <td>7454251.800</td>\n",
       "      <td>9.458167e+06</td>\n",
       "      <td>...</td>\n",
       "      <td>8211244.093</td>\n",
       "      <td>1.132396e+06</td>\n",
       "      <td>3257140.159</td>\n",
       "      <td>3006158.760</td>\n",
       "      <td>1.037213e+06</td>\n",
       "      <td>359694.4537</td>\n",
       "      <td>4355706.646</td>\n",
       "      <td>8.389482e+05</td>\n",
       "      <td>1535726.345</td>\n",
       "      <td>2146755.887</td>\n",
       "    </tr>\n",
       "    <tr>\n",
       "      <th>4</th>\n",
       "      <td>01/05/2017</td>\n",
       "      <td>27969.0</td>\n",
       "      <td>25631.9</td>\n",
       "      <td>27969004.68</td>\n",
       "      <td>27569311.41</td>\n",
       "      <td>399693.2620</td>\n",
       "      <td>27969004.68</td>\n",
       "      <td>1.014761e+07</td>\n",
       "      <td>6735747.319</td>\n",
       "      <td>9.220930e+06</td>\n",
       "      <td>...</td>\n",
       "      <td>7651058.084</td>\n",
       "      <td>1.033082e+06</td>\n",
       "      <td>3232635.767</td>\n",
       "      <td>2799142.123</td>\n",
       "      <td>9.826512e+05</td>\n",
       "      <td>336568.0085</td>\n",
       "      <td>4206101.605</td>\n",
       "      <td>9.158951e+05</td>\n",
       "      <td>1824462.036</td>\n",
       "      <td>2117971.483</td>\n",
       "    </tr>\n",
       "    <tr>\n",
       "      <th>5</th>\n",
       "      <td>01/06/2017</td>\n",
       "      <td>29132.7</td>\n",
       "      <td>26365.4</td>\n",
       "      <td>29132712.74</td>\n",
       "      <td>28763865.42</td>\n",
       "      <td>368847.3260</td>\n",
       "      <td>29132712.74</td>\n",
       "      <td>1.056549e+07</td>\n",
       "      <td>7337456.597</td>\n",
       "      <td>9.196110e+06</td>\n",
       "      <td>...</td>\n",
       "      <td>7911936.245</td>\n",
       "      <td>1.083494e+06</td>\n",
       "      <td>3322049.564</td>\n",
       "      <td>2883228.762</td>\n",
       "      <td>9.522033e+05</td>\n",
       "      <td>345114.1199</td>\n",
       "      <td>4277889.539</td>\n",
       "      <td>1.001572e+06</td>\n",
       "      <td>1893542.062</td>\n",
       "      <td>2358093.345</td>\n",
       "    </tr>\n",
       "    <tr>\n",
       "      <th>6</th>\n",
       "      <td>01/07/2017</td>\n",
       "      <td>31182.3</td>\n",
       "      <td>27819.4</td>\n",
       "      <td>31182302.46</td>\n",
       "      <td>30815311.77</td>\n",
       "      <td>366990.6830</td>\n",
       "      <td>31182302.46</td>\n",
       "      <td>1.090591e+07</td>\n",
       "      <td>8183012.318</td>\n",
       "      <td>1.016290e+07</td>\n",
       "      <td>...</td>\n",
       "      <td>8482567.662</td>\n",
       "      <td>1.153102e+06</td>\n",
       "      <td>3534096.704</td>\n",
       "      <td>3013143.968</td>\n",
       "      <td>9.943436e+05</td>\n",
       "      <td>380008.1679</td>\n",
       "      <td>4599798.334</td>\n",
       "      <td>1.026743e+06</td>\n",
       "      <td>1995091.144</td>\n",
       "      <td>2678008.532</td>\n",
       "    </tr>\n",
       "    <tr>\n",
       "      <th>7</th>\n",
       "      <td>01/08/2017</td>\n",
       "      <td>31154.9</td>\n",
       "      <td>27394.1</td>\n",
       "      <td>31154880.94</td>\n",
       "      <td>30763355.89</td>\n",
       "      <td>391525.0520</td>\n",
       "      <td>31154880.94</td>\n",
       "      <td>1.104163e+07</td>\n",
       "      <td>7899351.017</td>\n",
       "      <td>NaN</td>\n",
       "      <td>...</td>\n",
       "      <td>8275620.180</td>\n",
       "      <td>1.147970e+06</td>\n",
       "      <td>3604272.106</td>\n",
       "      <td>2946950.822</td>\n",
       "      <td>1.060479e+06</td>\n",
       "      <td>370191.1923</td>\n",
       "      <td>4585003.764</td>\n",
       "      <td>7.864155e+05</td>\n",
       "      <td>1882133.804</td>\n",
       "      <td>3234640.071</td>\n",
       "    </tr>\n",
       "    <tr>\n",
       "      <th>8</th>\n",
       "      <td>01/09/2017</td>\n",
       "      <td>30521.5</td>\n",
       "      <td>26404.3</td>\n",
       "      <td>30521506.20</td>\n",
       "      <td>30135595.70</td>\n",
       "      <td>385910.4980</td>\n",
       "      <td>30521506.20</td>\n",
       "      <td>1.078917e+07</td>\n",
       "      <td>7888243.177</td>\n",
       "      <td>9.795879e+06</td>\n",
       "      <td>...</td>\n",
       "      <td>8319868.332</td>\n",
       "      <td>1.144159e+06</td>\n",
       "      <td>3640337.038</td>\n",
       "      <td>2991425.025</td>\n",
       "      <td>1.078616e+06</td>\n",
       "      <td>362573.6633</td>\n",
       "      <td>4708171.561</td>\n",
       "      <td>7.405727e+05</td>\n",
       "      <td>1673423.550</td>\n",
       "      <td>NaN</td>\n",
       "    </tr>\n",
       "    <tr>\n",
       "      <th>9</th>\n",
       "      <td>01/10/2017</td>\n",
       "      <td>32446.0</td>\n",
       "      <td>27766.7</td>\n",
       "      <td>32445983.01</td>\n",
       "      <td>31980223.91</td>\n",
       "      <td>465759.1013</td>\n",
       "      <td>32445983.01</td>\n",
       "      <td>1.122031e+07</td>\n",
       "      <td>8695476.803</td>\n",
       "      <td>1.144746e+07</td>\n",
       "      <td>...</td>\n",
       "      <td>NaN</td>\n",
       "      <td>1.171283e+06</td>\n",
       "      <td>3698962.630</td>\n",
       "      <td>3091846.913</td>\n",
       "      <td>1.147860e+06</td>\n",
       "      <td>381176.1241</td>\n",
       "      <td>4889144.438</td>\n",
       "      <td>8.704811e+05</td>\n",
       "      <td>2404158.327</td>\n",
       "      <td>2538296.932</td>\n",
       "    </tr>\n",
       "  </tbody>\n",
       "</table>\n",
       "<p>10 rows × 24 columns</p>\n",
       "</div>"
      ],
      "text/plain": [
       "  indice_tiempo  ventas_precios_corrientes  ventas_precios_constantes  \\\n",
       "0    01/01/2017                    27858.9                    27477.3   \n",
       "1    01/02/2017                    25994.2                    25223.4   \n",
       "2    01/03/2017                    27780.0                    26334.3   \n",
       "3    01/04/2017                    29134.3                    27045.9   \n",
       "4    01/05/2017                    27969.0                    25631.9   \n",
       "5    01/06/2017                    29132.7                    26365.4   \n",
       "6    01/07/2017                    31182.3                    27819.4   \n",
       "7    01/08/2017                    31154.9                    27394.1   \n",
       "8    01/09/2017                    30521.5                    26404.3   \n",
       "9    01/10/2017                    32446.0                    27766.7   \n",
       "\n",
       "   ventas_totales_canal_venta  salon_ventas  canales_on_line  \\\n",
       "0                 27858872.08   27591730.13      267141.9560   \n",
       "1                 25994200.17   25749179.40      245020.7690   \n",
       "2                 27780006.52   27472228.72      307777.8040   \n",
       "3                 29134272.22   28827479.49      306792.7330   \n",
       "4                 27969004.68   27569311.41      399693.2620   \n",
       "5                 29132712.74   28763865.42      368847.3260   \n",
       "6                 31182302.46   30815311.77      366990.6830   \n",
       "7                 31154880.94   30763355.89      391525.0520   \n",
       "8                 30521506.20   30135595.70      385910.4980   \n",
       "9                 32445983.01   31980223.91      465759.1013   \n",
       "\n",
       "   ventas_totales_medio_pago      efectivo  tarjetas_debito  tarjetas_credito  \\\n",
       "0                27858872.08  1.023010e+07      6864575.384      9.047205e+06   \n",
       "1                25994200.17  9.719067e+06      6438494.011      8.309150e+06   \n",
       "2                27780006.52  1.024444e+07      6908522.962      8.845010e+06   \n",
       "3                29134272.22  1.031263e+07      7454251.800      9.458167e+06   \n",
       "4                27969004.68  1.014761e+07      6735747.319      9.220930e+06   \n",
       "5                29132712.74  1.056549e+07      7337456.597      9.196110e+06   \n",
       "6                31182302.46  1.090591e+07      8183012.318      1.016290e+07   \n",
       "7                31154880.94  1.104163e+07      7899351.017               NaN   \n",
       "8                30521506.20  1.078917e+07      7888243.177      9.795879e+06   \n",
       "9                32445983.01  1.122031e+07      8695476.803      1.144746e+07   \n",
       "\n",
       "   ...      almacen     panaderia      lacteos       carnes  \\\n",
       "0  ...  6705475.318  9.459063e+05  2880656.169  2606192.942   \n",
       "1  ...  6576624.803  9.256186e+05  2855639.900  2600083.591   \n",
       "2  ...  7437264.174  1.016148e+06  3188259.169  2824976.726   \n",
       "3  ...  8211244.093  1.132396e+06  3257140.159  3006158.760   \n",
       "4  ...  7651058.084  1.033082e+06  3232635.767  2799142.123   \n",
       "5  ...  7911936.245  1.083494e+06  3322049.564  2883228.762   \n",
       "6  ...  8482567.662  1.153102e+06  3534096.704  3013143.968   \n",
       "7  ...  8275620.180  1.147970e+06  3604272.106  2946950.822   \n",
       "8  ...  8319868.332  1.144159e+06  3640337.038  2991425.025   \n",
       "9  ...          NaN  1.171283e+06  3698962.630  3091846.913   \n",
       "\n",
       "   verduleria_fruteria  alimentos_preparados_rotiseria  \\\n",
       "0         1.050314e+06                     340777.3882   \n",
       "1         1.026167e+06                     328288.6951   \n",
       "2         1.075526e+06                     353335.1548   \n",
       "3         1.037213e+06                     359694.4537   \n",
       "4         9.826512e+05                     336568.0085   \n",
       "5         9.522033e+05                     345114.1199   \n",
       "6         9.943436e+05                     380008.1679   \n",
       "7         1.060479e+06                     370191.1923   \n",
       "8         1.078616e+06                     362573.6633   \n",
       "9         1.147860e+06                     381176.1241   \n",
       "\n",
       "   articulos_limpieza_perfumeria  indumentaria_calzado_textiles_hogar  \\\n",
       "0                    4397543.671                         7.723718e+05   \n",
       "1                    4053283.771                         6.722905e+05   \n",
       "2                    4354197.611                         6.676967e+05   \n",
       "3                    4355706.646                         8.389482e+05   \n",
       "4                    4206101.605                         9.158951e+05   \n",
       "5                    4277889.539                         1.001572e+06   \n",
       "6                    4599798.334                         1.026743e+06   \n",
       "7                    4585003.764                         7.864155e+05   \n",
       "8                    4708171.561                         7.405727e+05   \n",
       "9                    4889144.438                         8.704811e+05   \n",
       "\n",
       "   electronicos_articulos_hogar        otros  \n",
       "0                   1838507.096  2806660.309  \n",
       "1                   1257661.903  2354084.901  \n",
       "2                   1305674.917  2266189.277  \n",
       "3                   1535726.345  2146755.887  \n",
       "4                   1824462.036  2117971.483  \n",
       "5                   1893542.062  2358093.345  \n",
       "6                   1995091.144  2678008.532  \n",
       "7                   1882133.804  3234640.071  \n",
       "8                   1673423.550          NaN  \n",
       "9                   2404158.327  2538296.932  \n",
       "\n",
       "[10 rows x 24 columns]"
      ]
     },
     "execution_count": 110,
     "metadata": {},
     "output_type": "execute_result"
    }
   ],
   "source": [
    "#Carga desde un archvio .csv sin índice \n",
    "data=pd.read_csv('Ventas_totales.csv')\n",
    "data.head(10)"
   ]
  },
  {
   "cell_type": "code",
   "execution_count": 111,
   "metadata": {},
   "outputs": [
    {
     "name": "stdout",
     "output_type": "stream",
     "text": [
      "<class 'pandas.core.frame.DataFrame'>\n",
      "RangeIndex: 65 entries, 0 to 64\n",
      "Data columns (total 24 columns):\n",
      " #   Column                               Non-Null Count  Dtype  \n",
      "---  ------                               --------------  -----  \n",
      " 0   indice_tiempo                        65 non-null     object \n",
      " 1   ventas_precios_corrientes            65 non-null     float64\n",
      " 2   ventas_precios_constantes            65 non-null     float64\n",
      " 3   ventas_totales_canal_venta           65 non-null     float64\n",
      " 4   salon_ventas                         59 non-null     float64\n",
      " 5   canales_on_line                      65 non-null     float64\n",
      " 6   ventas_totales_medio_pago            65 non-null     float64\n",
      " 7   efectivo                             65 non-null     float64\n",
      " 8   tarjetas_debito                      64 non-null     float64\n",
      " 9   tarjetas_credito                     58 non-null     float64\n",
      " 10  otros_medios                         64 non-null     float64\n",
      " 11  ventas_totales_grupo_articulos       65 non-null     float64\n",
      " 12  subtotal_ventas_alimentos_bebidas    55 non-null     float64\n",
      " 13  bebidas                              64 non-null     float64\n",
      " 14  almacen                              63 non-null     float64\n",
      " 15  panaderia                            64 non-null     float64\n",
      " 16  lacteos                              64 non-null     float64\n",
      " 17  carnes                               64 non-null     float64\n",
      " 18  verduleria_fruteria                  64 non-null     float64\n",
      " 19  alimentos_preparados_rotiseria       64 non-null     float64\n",
      " 20  articulos_limpieza_perfumeria        65 non-null     float64\n",
      " 21  indumentaria_calzado_textiles_hogar  63 non-null     float64\n",
      " 22  electronicos_articulos_hogar         62 non-null     float64\n",
      " 23  otros                                61 non-null     float64\n",
      "dtypes: float64(23), object(1)\n",
      "memory usage: 12.3+ KB\n"
     ]
    }
   ],
   "source": [
    "data.info()"
   ]
  },
  {
   "cell_type": "markdown",
   "metadata": {},
   "source": [
    "**APLICACIÓN DE MÉTODOS DE SUSTITUCIÓN DE VALORES NULOS**"
   ]
  },
  {
   "cell_type": "code",
   "execution_count": 112,
   "metadata": {},
   "outputs": [
    {
     "data": {
      "text/plain": [
       "indice_tiempo                           0\n",
       "ventas_precios_corrientes               0\n",
       "ventas_precios_constantes               0\n",
       "ventas_totales_canal_venta              0\n",
       "salon_ventas                            6\n",
       "canales_on_line                         0\n",
       "ventas_totales_medio_pago               0\n",
       "efectivo                                0\n",
       "tarjetas_debito                         1\n",
       "tarjetas_credito                        7\n",
       "otros_medios                            1\n",
       "ventas_totales_grupo_articulos          0\n",
       "subtotal_ventas_alimentos_bebidas      10\n",
       "bebidas                                 1\n",
       "almacen                                 2\n",
       "panaderia                               1\n",
       "lacteos                                 1\n",
       "carnes                                  1\n",
       "verduleria_fruteria                     1\n",
       "alimentos_preparados_rotiseria          1\n",
       "articulos_limpieza_perfumeria           0\n",
       "indumentaria_calzado_textiles_hogar     2\n",
       "electronicos_articulos_hogar            3\n",
       "otros                                   4\n",
       "dtype: int64"
      ]
     },
     "execution_count": 112,
     "metadata": {},
     "output_type": "execute_result"
    }
   ],
   "source": [
    "#identificar valores nulos por columna \n",
    "vn=data.isnull().sum()\n",
    "vn"
   ]
  },
  {
   "cell_type": "code",
   "execution_count": 113,
   "metadata": {},
   "outputs": [
    {
     "data": {
      "text/plain": [
       "np.int64(42)"
      ]
     },
     "execution_count": 113,
     "metadata": {},
     "output_type": "execute_result"
    }
   ],
   "source": [
    "#identifcar valores nulos del dataframe \n",
    "vn=data.isnull().sum().sum()\n",
    "vn"
   ]
  },
  {
   "cell_type": "code",
   "execution_count": 114,
   "metadata": {},
   "outputs": [],
   "source": [
    "#realizamos una copia del dataframe\n",
    "data2=data.copy()"
   ]
  },
  {
   "cell_type": "markdown",
   "metadata": {},
   "source": [
    "**Aplicamos método de sustitución por mediana**"
   ]
  },
  {
   "cell_type": "code",
   "execution_count": 115,
   "metadata": {},
   "outputs": [],
   "source": [
    "#utilizamos esta sustitución para no alterar drasticamente el valor\n",
    "data2[\"salon_ventas\"]=data2[\"salon_ventas\"].fillna(round(data[\"salon_ventas\"].median(),1))"
   ]
  },
  {
   "cell_type": "code",
   "execution_count": 116,
   "metadata": {},
   "outputs": [
    {
     "data": {
      "text/plain": [
       "indice_tiempo                           0\n",
       "ventas_precios_corrientes               0\n",
       "ventas_precios_constantes               0\n",
       "ventas_totales_canal_venta              0\n",
       "salon_ventas                            0\n",
       "canales_on_line                         0\n",
       "ventas_totales_medio_pago               0\n",
       "efectivo                                0\n",
       "tarjetas_debito                         1\n",
       "tarjetas_credito                        7\n",
       "otros_medios                            1\n",
       "ventas_totales_grupo_articulos          0\n",
       "subtotal_ventas_alimentos_bebidas      10\n",
       "bebidas                                 1\n",
       "almacen                                 2\n",
       "panaderia                               1\n",
       "lacteos                                 1\n",
       "carnes                                  1\n",
       "verduleria_fruteria                     1\n",
       "alimentos_preparados_rotiseria          1\n",
       "articulos_limpieza_perfumeria           0\n",
       "indumentaria_calzado_textiles_hogar     2\n",
       "electronicos_articulos_hogar            3\n",
       "otros                                   4\n",
       "dtype: int64"
      ]
     },
     "execution_count": 116,
     "metadata": {},
     "output_type": "execute_result"
    }
   ],
   "source": [
    "#corroboramos valores nulos \n",
    "vn=data2.isnull().sum()\n",
    "vn"
   ]
  },
  {
   "cell_type": "code",
   "execution_count": 117,
   "metadata": {},
   "outputs": [],
   "source": [
    "#en la variable almacen, aplicamos este método para llenar con datos que existen y reflejen un valor típico\n",
    "data2[\"almacen\"]=data2[\"almacen\"].fillna(round(data[\"almacen\"].median(),1))"
   ]
  },
  {
   "cell_type": "code",
   "execution_count": 118,
   "metadata": {},
   "outputs": [
    {
     "data": {
      "text/plain": [
       "indice_tiempo                           0\n",
       "ventas_precios_corrientes               0\n",
       "ventas_precios_constantes               0\n",
       "ventas_totales_canal_venta              0\n",
       "salon_ventas                            0\n",
       "canales_on_line                         0\n",
       "ventas_totales_medio_pago               0\n",
       "efectivo                                0\n",
       "tarjetas_debito                         1\n",
       "tarjetas_credito                        7\n",
       "otros_medios                            1\n",
       "ventas_totales_grupo_articulos          0\n",
       "subtotal_ventas_alimentos_bebidas      10\n",
       "bebidas                                 1\n",
       "almacen                                 0\n",
       "panaderia                               1\n",
       "lacteos                                 1\n",
       "carnes                                  1\n",
       "verduleria_fruteria                     1\n",
       "alimentos_preparados_rotiseria          1\n",
       "articulos_limpieza_perfumeria           0\n",
       "indumentaria_calzado_textiles_hogar     2\n",
       "electronicos_articulos_hogar            3\n",
       "otros                                   4\n",
       "dtype: int64"
      ]
     },
     "execution_count": 118,
     "metadata": {},
     "output_type": "execute_result"
    }
   ],
   "source": [
    "#corroboramos valores nulos \n",
    "vn=data2.isnull().sum()\n",
    "vn"
   ]
  },
  {
   "cell_type": "code",
   "execution_count": 119,
   "metadata": {},
   "outputs": [],
   "source": [
    "#aplicamos método de sustitución por mediana suponiendo que los valores que buscamos analizar deben ser típicos para no afectar \n",
    "#la naturaleza de los mismos \n",
    "data2[\"indumentaria_calzado_textiles_hogar\"]=data2[\"indumentaria_calzado_textiles_hogar\"].fillna(round(data[\"indumentaria_calzado_textiles_hogar\"].median(),1))"
   ]
  },
  {
   "cell_type": "code",
   "execution_count": 120,
   "metadata": {},
   "outputs": [
    {
     "data": {
      "text/plain": [
       "indice_tiempo                           0\n",
       "ventas_precios_corrientes               0\n",
       "ventas_precios_constantes               0\n",
       "ventas_totales_canal_venta              0\n",
       "salon_ventas                            0\n",
       "canales_on_line                         0\n",
       "ventas_totales_medio_pago               0\n",
       "efectivo                                0\n",
       "tarjetas_debito                         1\n",
       "tarjetas_credito                        7\n",
       "otros_medios                            1\n",
       "ventas_totales_grupo_articulos          0\n",
       "subtotal_ventas_alimentos_bebidas      10\n",
       "bebidas                                 1\n",
       "almacen                                 0\n",
       "panaderia                               1\n",
       "lacteos                                 1\n",
       "carnes                                  1\n",
       "verduleria_fruteria                     1\n",
       "alimentos_preparados_rotiseria          1\n",
       "articulos_limpieza_perfumeria           0\n",
       "indumentaria_calzado_textiles_hogar     0\n",
       "electronicos_articulos_hogar            3\n",
       "otros                                   4\n",
       "dtype: int64"
      ]
     },
     "execution_count": 120,
     "metadata": {},
     "output_type": "execute_result"
    }
   ],
   "source": [
    "#corroboramos valores nulos \n",
    "vn=data2.isnull().sum()\n",
    "vn"
   ]
  },
  {
   "cell_type": "code",
   "execution_count": 121,
   "metadata": {},
   "outputs": [],
   "source": [
    "#en el caso de la variable carnes, aplico metodo por mediana suponiendo que o que queremos es manetener consistecia en los datos que \n",
    "#buscamos sustituir \n",
    "data2[\"carnes\"]=data2[\"carnes\"].fillna(round(data[\"carnes\"].median(),1))"
   ]
  },
  {
   "cell_type": "code",
   "execution_count": 122,
   "metadata": {},
   "outputs": [
    {
     "data": {
      "text/plain": [
       "indice_tiempo                           0\n",
       "ventas_precios_corrientes               0\n",
       "ventas_precios_constantes               0\n",
       "ventas_totales_canal_venta              0\n",
       "salon_ventas                            0\n",
       "canales_on_line                         0\n",
       "ventas_totales_medio_pago               0\n",
       "efectivo                                0\n",
       "tarjetas_debito                         1\n",
       "tarjetas_credito                        7\n",
       "otros_medios                            1\n",
       "ventas_totales_grupo_articulos          0\n",
       "subtotal_ventas_alimentos_bebidas      10\n",
       "bebidas                                 1\n",
       "almacen                                 0\n",
       "panaderia                               1\n",
       "lacteos                                 1\n",
       "carnes                                  0\n",
       "verduleria_fruteria                     1\n",
       "alimentos_preparados_rotiseria          1\n",
       "articulos_limpieza_perfumeria           0\n",
       "indumentaria_calzado_textiles_hogar     0\n",
       "electronicos_articulos_hogar            3\n",
       "otros                                   4\n",
       "dtype: int64"
      ]
     },
     "execution_count": 122,
     "metadata": {},
     "output_type": "execute_result"
    }
   ],
   "source": [
    "#corroboramos valores nulos \n",
    "vn=data2.isnull().sum()\n",
    "vn"
   ]
  },
  {
   "cell_type": "code",
   "execution_count": 123,
   "metadata": {},
   "outputs": [],
   "source": [
    "#para la variable verduleria_fruteria utilizo sustitución por mediana debido a que es un solo dato faltante por lo cual el valor típico que sustituya \n",
    "#nos será funcional\n",
    "data2[\"verduleria_fruteria\"]=data2[\"verduleria_fruteria\"].fillna(round(data[\"verduleria_fruteria\"].median(),1))"
   ]
  },
  {
   "cell_type": "code",
   "execution_count": 124,
   "metadata": {},
   "outputs": [
    {
     "data": {
      "text/plain": [
       "indice_tiempo                           0\n",
       "ventas_precios_corrientes               0\n",
       "ventas_precios_constantes               0\n",
       "ventas_totales_canal_venta              0\n",
       "salon_ventas                            0\n",
       "canales_on_line                         0\n",
       "ventas_totales_medio_pago               0\n",
       "efectivo                                0\n",
       "tarjetas_debito                         1\n",
       "tarjetas_credito                        7\n",
       "otros_medios                            1\n",
       "ventas_totales_grupo_articulos          0\n",
       "subtotal_ventas_alimentos_bebidas      10\n",
       "bebidas                                 1\n",
       "almacen                                 0\n",
       "panaderia                               1\n",
       "lacteos                                 1\n",
       "carnes                                  0\n",
       "verduleria_fruteria                     0\n",
       "alimentos_preparados_rotiseria          1\n",
       "articulos_limpieza_perfumeria           0\n",
       "indumentaria_calzado_textiles_hogar     0\n",
       "electronicos_articulos_hogar            3\n",
       "otros                                   4\n",
       "dtype: int64"
      ]
     },
     "execution_count": 124,
     "metadata": {},
     "output_type": "execute_result"
    }
   ],
   "source": [
    "#corroboramos valores nulos \n",
    "vn=data2.isnull().sum()\n",
    "vn"
   ]
  },
  {
   "cell_type": "markdown",
   "metadata": {},
   "source": [
    "**Aplicamos método de sustitución por promedio o media**"
   ]
  },
  {
   "cell_type": "code",
   "execution_count": 125,
   "metadata": {},
   "outputs": [],
   "source": [
    "#sustituir valores nulos por promedio o media para la variable subtotal_ventas_alimentos_bebidas debido al tipo de infromación que requiere la variable \n",
    "data2[\"subtotal_ventas_alimentos_bebidas\"]=data2[\"subtotal_ventas_alimentos_bebidas\"].fillna(round(data[\"subtotal_ventas_alimentos_bebidas\"].mean(),1))"
   ]
  },
  {
   "cell_type": "code",
   "execution_count": 126,
   "metadata": {},
   "outputs": [
    {
     "data": {
      "text/plain": [
       "indice_tiempo                          0\n",
       "ventas_precios_corrientes              0\n",
       "ventas_precios_constantes              0\n",
       "ventas_totales_canal_venta             0\n",
       "salon_ventas                           0\n",
       "canales_on_line                        0\n",
       "ventas_totales_medio_pago              0\n",
       "efectivo                               0\n",
       "tarjetas_debito                        1\n",
       "tarjetas_credito                       7\n",
       "otros_medios                           1\n",
       "ventas_totales_grupo_articulos         0\n",
       "subtotal_ventas_alimentos_bebidas      0\n",
       "bebidas                                1\n",
       "almacen                                0\n",
       "panaderia                              1\n",
       "lacteos                                1\n",
       "carnes                                 0\n",
       "verduleria_fruteria                    0\n",
       "alimentos_preparados_rotiseria         1\n",
       "articulos_limpieza_perfumeria          0\n",
       "indumentaria_calzado_textiles_hogar    0\n",
       "electronicos_articulos_hogar           3\n",
       "otros                                  4\n",
       "dtype: int64"
      ]
     },
     "execution_count": 126,
     "metadata": {},
     "output_type": "execute_result"
    }
   ],
   "source": [
    "#corroboramos valores nulos\n",
    "vn=data2.isnull().sum()\n",
    "vn"
   ]
  },
  {
   "cell_type": "code",
   "execution_count": 127,
   "metadata": {},
   "outputs": [],
   "source": [
    "#en la variable tarjetas_credito aplicamos sustitución por promedio suponiendo que buscamos obtener mayor consistencia en los totales\n",
    "data2[\"tarjetas_credito\"]=data2[\"tarjetas_credito\"].fillna(round(data[\"tarjetas_credito\"].mean(),1))"
   ]
  },
  {
   "cell_type": "code",
   "execution_count": 128,
   "metadata": {},
   "outputs": [
    {
     "data": {
      "text/plain": [
       "indice_tiempo                          0\n",
       "ventas_precios_corrientes              0\n",
       "ventas_precios_constantes              0\n",
       "ventas_totales_canal_venta             0\n",
       "salon_ventas                           0\n",
       "canales_on_line                        0\n",
       "ventas_totales_medio_pago              0\n",
       "efectivo                               0\n",
       "tarjetas_debito                        1\n",
       "tarjetas_credito                       0\n",
       "otros_medios                           1\n",
       "ventas_totales_grupo_articulos         0\n",
       "subtotal_ventas_alimentos_bebidas      0\n",
       "bebidas                                1\n",
       "almacen                                0\n",
       "panaderia                              1\n",
       "lacteos                                1\n",
       "carnes                                 0\n",
       "verduleria_fruteria                    0\n",
       "alimentos_preparados_rotiseria         1\n",
       "articulos_limpieza_perfumeria          0\n",
       "indumentaria_calzado_textiles_hogar    0\n",
       "electronicos_articulos_hogar           3\n",
       "otros                                  4\n",
       "dtype: int64"
      ]
     },
     "execution_count": 128,
     "metadata": {},
     "output_type": "execute_result"
    }
   ],
   "source": [
    "#corroboramos valores nulos\n",
    "vn=data2.isnull().sum()\n",
    "vn"
   ]
  },
  {
   "cell_type": "code",
   "execution_count": 129,
   "metadata": {},
   "outputs": [],
   "source": [
    "#para la variable tarjetas_debito, al igual que con tarjetas_credito, aplicamos sustitución por promedio suponiendo que queremos\n",
    "#mayor consistencia en los totales\n",
    "data2[\"tarjetas_debito\"]=data2[\"tarjetas_debito\"].fillna(round(data[\"tarjetas_debito\"].mean(),1))"
   ]
  },
  {
   "cell_type": "code",
   "execution_count": 130,
   "metadata": {},
   "outputs": [
    {
     "data": {
      "text/plain": [
       "indice_tiempo                          0\n",
       "ventas_precios_corrientes              0\n",
       "ventas_precios_constantes              0\n",
       "ventas_totales_canal_venta             0\n",
       "salon_ventas                           0\n",
       "canales_on_line                        0\n",
       "ventas_totales_medio_pago              0\n",
       "efectivo                               0\n",
       "tarjetas_debito                        0\n",
       "tarjetas_credito                       0\n",
       "otros_medios                           1\n",
       "ventas_totales_grupo_articulos         0\n",
       "subtotal_ventas_alimentos_bebidas      0\n",
       "bebidas                                1\n",
       "almacen                                0\n",
       "panaderia                              1\n",
       "lacteos                                1\n",
       "carnes                                 0\n",
       "verduleria_fruteria                    0\n",
       "alimentos_preparados_rotiseria         1\n",
       "articulos_limpieza_perfumeria          0\n",
       "indumentaria_calzado_textiles_hogar    0\n",
       "electronicos_articulos_hogar           3\n",
       "otros                                  4\n",
       "dtype: int64"
      ]
     },
     "execution_count": 130,
     "metadata": {},
     "output_type": "execute_result"
    }
   ],
   "source": [
    "#corroboramos valores nulos \n",
    "vn=data2.isnull().sum()\n",
    "vn"
   ]
  },
  {
   "cell_type": "code",
   "execution_count": 131,
   "metadata": {},
   "outputs": [],
   "source": [
    "#para la variable electronicos_articulos_hogar utilizamos metodo por media suponiendo que buscamos ... \n",
    "data2[\"electronicos_articulos_hogar\"]=data2[\"electronicos_articulos_hogar\"].fillna(round(data[\"electronicos_articulos_hogar\"].mean(),1))"
   ]
  },
  {
   "cell_type": "code",
   "execution_count": 132,
   "metadata": {},
   "outputs": [
    {
     "data": {
      "text/plain": [
       "indice_tiempo                          0\n",
       "ventas_precios_corrientes              0\n",
       "ventas_precios_constantes              0\n",
       "ventas_totales_canal_venta             0\n",
       "salon_ventas                           0\n",
       "canales_on_line                        0\n",
       "ventas_totales_medio_pago              0\n",
       "efectivo                               0\n",
       "tarjetas_debito                        0\n",
       "tarjetas_credito                       0\n",
       "otros_medios                           1\n",
       "ventas_totales_grupo_articulos         0\n",
       "subtotal_ventas_alimentos_bebidas      0\n",
       "bebidas                                1\n",
       "almacen                                0\n",
       "panaderia                              1\n",
       "lacteos                                1\n",
       "carnes                                 0\n",
       "verduleria_fruteria                    0\n",
       "alimentos_preparados_rotiseria         1\n",
       "articulos_limpieza_perfumeria          0\n",
       "indumentaria_calzado_textiles_hogar    0\n",
       "electronicos_articulos_hogar           0\n",
       "otros                                  4\n",
       "dtype: int64"
      ]
     },
     "execution_count": 132,
     "metadata": {},
     "output_type": "execute_result"
    }
   ],
   "source": [
    "#corroboramos valores nulos\n",
    "vn=data2.isnull().sum()\n",
    "vn"
   ]
  },
  {
   "cell_type": "code",
   "execution_count": 133,
   "metadata": {},
   "outputs": [],
   "source": [
    "#para la variable panaderia, en este caso nos será funcional aplicar sustitución por promedio debido al tipo de valor numérico que se está manejando \n",
    "data2[\"panaderia\"]=data2[\"panaderia\"].fillna(round(data[\"panaderia\"].mean(),1))"
   ]
  },
  {
   "cell_type": "code",
   "execution_count": 134,
   "metadata": {},
   "outputs": [
    {
     "data": {
      "text/plain": [
       "indice_tiempo                          0\n",
       "ventas_precios_corrientes              0\n",
       "ventas_precios_constantes              0\n",
       "ventas_totales_canal_venta             0\n",
       "salon_ventas                           0\n",
       "canales_on_line                        0\n",
       "ventas_totales_medio_pago              0\n",
       "efectivo                               0\n",
       "tarjetas_debito                        0\n",
       "tarjetas_credito                       0\n",
       "otros_medios                           1\n",
       "ventas_totales_grupo_articulos         0\n",
       "subtotal_ventas_alimentos_bebidas      0\n",
       "bebidas                                1\n",
       "almacen                                0\n",
       "panaderia                              0\n",
       "lacteos                                1\n",
       "carnes                                 0\n",
       "verduleria_fruteria                    0\n",
       "alimentos_preparados_rotiseria         1\n",
       "articulos_limpieza_perfumeria          0\n",
       "indumentaria_calzado_textiles_hogar    0\n",
       "electronicos_articulos_hogar           0\n",
       "otros                                  4\n",
       "dtype: int64"
      ]
     },
     "execution_count": 134,
     "metadata": {},
     "output_type": "execute_result"
    }
   ],
   "source": [
    "#corroboramos valores nulos \n",
    "vn=data2.isnull().sum()\n",
    "vn"
   ]
  },
  {
   "cell_type": "markdown",
   "metadata": {},
   "source": [
    "**Aplicamos método de sustitución hacia adelante o hacia atrás**"
   ]
  },
  {
   "cell_type": "code",
   "execution_count": 135,
   "metadata": {},
   "outputs": [
    {
     "name": "stderr",
     "output_type": "stream",
     "text": [
      "C:\\Users\\josse\\AppData\\Local\\Temp\\ipykernel_24404\\3731683770.py:3: FutureWarning: Series.fillna with 'method' is deprecated and will raise in a future version. Use obj.ffill() or obj.bfill() instead.\n",
      "  data2[\"otros\"] = data[\"otros\"].fillna(method=\"ffill\")\n"
     ]
    }
   ],
   "source": [
    "#para la variable otro utilizo sustitución hacia delante debido a que los datos que necesito sustituir si bien no siguen una \n",
    "# secuencia lógica, se encuentran dentro del mismo rango\n",
    "data2[\"otros\"] = data[\"otros\"].fillna(method=\"ffill\")"
   ]
  },
  {
   "cell_type": "code",
   "execution_count": 136,
   "metadata": {},
   "outputs": [
    {
     "data": {
      "text/plain": [
       "indice_tiempo                          0\n",
       "ventas_precios_corrientes              0\n",
       "ventas_precios_constantes              0\n",
       "ventas_totales_canal_venta             0\n",
       "salon_ventas                           0\n",
       "canales_on_line                        0\n",
       "ventas_totales_medio_pago              0\n",
       "efectivo                               0\n",
       "tarjetas_debito                        0\n",
       "tarjetas_credito                       0\n",
       "otros_medios                           1\n",
       "ventas_totales_grupo_articulos         0\n",
       "subtotal_ventas_alimentos_bebidas      0\n",
       "bebidas                                1\n",
       "almacen                                0\n",
       "panaderia                              0\n",
       "lacteos                                1\n",
       "carnes                                 0\n",
       "verduleria_fruteria                    0\n",
       "alimentos_preparados_rotiseria         1\n",
       "articulos_limpieza_perfumeria          0\n",
       "indumentaria_calzado_textiles_hogar    0\n",
       "electronicos_articulos_hogar           0\n",
       "otros                                  0\n",
       "dtype: int64"
      ]
     },
     "execution_count": 136,
     "metadata": {},
     "output_type": "execute_result"
    }
   ],
   "source": [
    "#corroboramos valores nulos\n",
    "vn=data2.isnull().sum()\n",
    "vn"
   ]
  },
  {
   "cell_type": "code",
   "execution_count": 137,
   "metadata": {},
   "outputs": [
    {
     "name": "stderr",
     "output_type": "stream",
     "text": [
      "C:\\Users\\josse\\AppData\\Local\\Temp\\ipykernel_24404\\1767619437.py:2: FutureWarning: Series.fillna with 'method' is deprecated and will raise in a future version. Use obj.ffill() or obj.bfill() instead.\n",
      "  data2[\"otros_medios\"] = data[\"otros_medios\"].fillna(method=\"ffill\")\n"
     ]
    }
   ],
   "source": [
    "#para otros medios utilizo sustitución hacia adelante debido a que únicamento necesito sustituir 1 dato\n",
    "data2[\"otros_medios\"] = data[\"otros_medios\"].fillna(method=\"ffill\")"
   ]
  },
  {
   "cell_type": "code",
   "execution_count": 138,
   "metadata": {},
   "outputs": [
    {
     "data": {
      "text/plain": [
       "indice_tiempo                          0\n",
       "ventas_precios_corrientes              0\n",
       "ventas_precios_constantes              0\n",
       "ventas_totales_canal_venta             0\n",
       "salon_ventas                           0\n",
       "canales_on_line                        0\n",
       "ventas_totales_medio_pago              0\n",
       "efectivo                               0\n",
       "tarjetas_debito                        0\n",
       "tarjetas_credito                       0\n",
       "otros_medios                           0\n",
       "ventas_totales_grupo_articulos         0\n",
       "subtotal_ventas_alimentos_bebidas      0\n",
       "bebidas                                1\n",
       "almacen                                0\n",
       "panaderia                              0\n",
       "lacteos                                1\n",
       "carnes                                 0\n",
       "verduleria_fruteria                    0\n",
       "alimentos_preparados_rotiseria         1\n",
       "articulos_limpieza_perfumeria          0\n",
       "indumentaria_calzado_textiles_hogar    0\n",
       "electronicos_articulos_hogar           0\n",
       "otros                                  0\n",
       "dtype: int64"
      ]
     },
     "execution_count": 138,
     "metadata": {},
     "output_type": "execute_result"
    }
   ],
   "source": [
    "#corroboramos valores nulos\n",
    "vn=data2.isnull().sum()\n",
    "vn"
   ]
  },
  {
   "cell_type": "code",
   "execution_count": 139,
   "metadata": {},
   "outputs": [
    {
     "name": "stderr",
     "output_type": "stream",
     "text": [
      "C:\\Users\\josse\\AppData\\Local\\Temp\\ipykernel_24404\\2562379662.py:3: FutureWarning: Series.fillna with 'method' is deprecated and will raise in a future version. Use obj.ffill() or obj.bfill() instead.\n",
      "  data2[\"bebidas\"] = data2[\"bebidas\"].fillna(method=\"bfill\")\n"
     ]
    }
   ],
   "source": [
    "#para la variable bebidas utilizaré el método de sustuitución hacia atrás, debido a que la cantidad de valores faltantes\n",
    "#es poco los datos en general no se verán afectados \n",
    "data2[\"bebidas\"] = data2[\"bebidas\"].fillna(method=\"bfill\")"
   ]
  },
  {
   "cell_type": "code",
   "execution_count": 140,
   "metadata": {},
   "outputs": [
    {
     "data": {
      "text/plain": [
       "indice_tiempo                          0\n",
       "ventas_precios_corrientes              0\n",
       "ventas_precios_constantes              0\n",
       "ventas_totales_canal_venta             0\n",
       "salon_ventas                           0\n",
       "canales_on_line                        0\n",
       "ventas_totales_medio_pago              0\n",
       "efectivo                               0\n",
       "tarjetas_debito                        0\n",
       "tarjetas_credito                       0\n",
       "otros_medios                           0\n",
       "ventas_totales_grupo_articulos         0\n",
       "subtotal_ventas_alimentos_bebidas      0\n",
       "bebidas                                0\n",
       "almacen                                0\n",
       "panaderia                              0\n",
       "lacteos                                1\n",
       "carnes                                 0\n",
       "verduleria_fruteria                    0\n",
       "alimentos_preparados_rotiseria         1\n",
       "articulos_limpieza_perfumeria          0\n",
       "indumentaria_calzado_textiles_hogar    0\n",
       "electronicos_articulos_hogar           0\n",
       "otros                                  0\n",
       "dtype: int64"
      ]
     },
     "execution_count": 140,
     "metadata": {},
     "output_type": "execute_result"
    }
   ],
   "source": [
    "#corroboramos valores nulos \n",
    "vn=data2.isnull().sum()\n",
    "vn"
   ]
  },
  {
   "cell_type": "markdown",
   "metadata": {},
   "source": [
    "**SUSTITUCIÓN POR VALORES NUMÉRICOS EN CONCRETO**"
   ]
  },
  {
   "cell_type": "code",
   "execution_count": 141,
   "metadata": {},
   "outputs": [],
   "source": [
    "#para la variable lacteos, utilizaré números en concreto suponiendo que conocemos el valor que necesitamos sustituir y ya nos ha sido funcional. \n",
    "data2[\"lacteos\"]=data2[\"lacteos\"].fillna(2880656.169)"
   ]
  },
  {
   "cell_type": "code",
   "execution_count": 142,
   "metadata": {},
   "outputs": [
    {
     "data": {
      "text/plain": [
       "indice_tiempo                          0\n",
       "ventas_precios_corrientes              0\n",
       "ventas_precios_constantes              0\n",
       "ventas_totales_canal_venta             0\n",
       "salon_ventas                           0\n",
       "canales_on_line                        0\n",
       "ventas_totales_medio_pago              0\n",
       "efectivo                               0\n",
       "tarjetas_debito                        0\n",
       "tarjetas_credito                       0\n",
       "otros_medios                           0\n",
       "ventas_totales_grupo_articulos         0\n",
       "subtotal_ventas_alimentos_bebidas      0\n",
       "bebidas                                0\n",
       "almacen                                0\n",
       "panaderia                              0\n",
       "lacteos                                0\n",
       "carnes                                 0\n",
       "verduleria_fruteria                    0\n",
       "alimentos_preparados_rotiseria         1\n",
       "articulos_limpieza_perfumeria          0\n",
       "indumentaria_calzado_textiles_hogar    0\n",
       "electronicos_articulos_hogar           0\n",
       "otros                                  0\n",
       "dtype: int64"
      ]
     },
     "execution_count": 142,
     "metadata": {},
     "output_type": "execute_result"
    }
   ],
   "source": [
    "#corroboramos valores nulos \n",
    "vn=data2.isnull().sum()\n",
    "vn"
   ]
  },
  {
   "cell_type": "code",
   "execution_count": 143,
   "metadata": {},
   "outputs": [],
   "source": [
    "#para la variable alimentos_preparados_rosticeria utilizo un número en concreto que ya existe, por ende no se ve afectada nuestra valoración\n",
    "data2[\"alimentos_preparados_rotiseria\"]=data2[\"alimentos_preparados_rotiseria\"].fillna(353335.1548) "
   ]
  },
  {
   "cell_type": "code",
   "execution_count": 144,
   "metadata": {},
   "outputs": [
    {
     "data": {
      "text/plain": [
       "indice_tiempo                          0\n",
       "ventas_precios_corrientes              0\n",
       "ventas_precios_constantes              0\n",
       "ventas_totales_canal_venta             0\n",
       "salon_ventas                           0\n",
       "canales_on_line                        0\n",
       "ventas_totales_medio_pago              0\n",
       "efectivo                               0\n",
       "tarjetas_debito                        0\n",
       "tarjetas_credito                       0\n",
       "otros_medios                           0\n",
       "ventas_totales_grupo_articulos         0\n",
       "subtotal_ventas_alimentos_bebidas      0\n",
       "bebidas                                0\n",
       "almacen                                0\n",
       "panaderia                              0\n",
       "lacteos                                0\n",
       "carnes                                 0\n",
       "verduleria_fruteria                    0\n",
       "alimentos_preparados_rotiseria         0\n",
       "articulos_limpieza_perfumeria          0\n",
       "indumentaria_calzado_textiles_hogar    0\n",
       "electronicos_articulos_hogar           0\n",
       "otros                                  0\n",
       "dtype: int64"
      ]
     },
     "execution_count": 144,
     "metadata": {},
     "output_type": "execute_result"
    }
   ],
   "source": [
    "#corroboramos valores nulos \n",
    "vn=data2.isnull().sum()\n",
    "vn"
   ]
  },
  {
   "cell_type": "code",
   "execution_count": 145,
   "metadata": {},
   "outputs": [
    {
     "data": {
      "text/plain": [
       "np.int64(0)"
      ]
     },
     "execution_count": 145,
     "metadata": {},
     "output_type": "execute_result"
    }
   ],
   "source": [
    "#corroboramos valores nulos del DataFrame \n",
    "vn=data2.isnull().sum().sum()\n",
    "vn"
   ]
  },
  {
   "cell_type": "markdown",
   "metadata": {},
   "source": [
    "**CONVERTIMOS ARCHIVO A CSV**"
   ]
  },
  {
   "cell_type": "code",
   "execution_count": 146,
   "metadata": {},
   "outputs": [],
   "source": [
    "data2.to_csv(\"Ventas_totales_sin_nulos.csv\")"
   ]
  }
 ],
 "metadata": {
  "kernelspec": {
   "display_name": "Python 3",
   "language": "python",
   "name": "python3"
  },
  "language_info": {
   "codemirror_mode": {
    "name": "ipython",
    "version": 3
   },
   "file_extension": ".py",
   "mimetype": "text/x-python",
   "name": "python",
   "nbconvert_exporter": "python",
   "pygments_lexer": "ipython3",
   "version": "3.13.1"
  }
 },
 "nbformat": 4,
 "nbformat_minor": 2
}
